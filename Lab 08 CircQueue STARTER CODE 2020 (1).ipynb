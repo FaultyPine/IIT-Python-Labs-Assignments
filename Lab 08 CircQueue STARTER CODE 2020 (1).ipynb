{
 "cells": [
  {
   "cell_type": "markdown",
   "metadata": {
    "state": "normal"
   },
   "source": [
    "# Lab 08: Circular, Array-backed Queue"
   ]
  },
  {
   "cell_type": "markdown",
   "metadata": {
    "state": "normal"
   },
   "source": [
    "## Overview\n",
    "\n",
    "For this assignment you will implement a circular, array-backed queue data structure.\n",
    "\n",
    "In the following class, which you are to complete, the backing array will be created and populated with `None`s in the `__init__` method, and the `head` and `tail` indexes set to sentinel values (you shouldn't need to modify `__init__`). Enqueueing and Dequeueing items will take place at the tail and head, with `tail` and `head` tracking the position of the most recently enqueued item and that of the next item to dequeue, respectively. To simplify testing, your implementation should make sure that when dequeuing an item its slot in the array is reset to `None`, and when the queue is emptied its `head` and `tail` attributes should be set to `-1`.\n",
    "\n",
    "Because of the fixed size backing array, the `enqueue` operation is defined to raise a `RuntimeError` when the queue is full — the same exception should be raised when `dequeue` is called on an empty queue.\n",
    "\n",
    "Finally, the `resize` method will allow the array underlying the queue to be increased in size. It is up to you how to implement this (you can either leave the elements in their current positions, though this may require \"unwrapping\" elements, or you can simply move all elements towards the front of the array). You may assume that `resize` will only be called with a value greater than the current length of the underlying array."
   ]
  },
  {
   "cell_type": "code",
   "execution_count": 81,
   "metadata": {
    "deletable": false,
    "id": "queue",
    "nbgrader": {
     "grade": false,
     "grade_id": "queue",
     "locked": false,
     "schema_version": 1,
     "solution": true
    },
    "starter_code": "class Queue:\n    def __init__(self, limit=10):\n        self.data = [None] * limit\n        self.head = -1\n        self.tail = -1\n\n    \n\n    def enqueue(self, val):\n        \n        \n    def dequeue(self):\n        \n    \n    def resize(self, newsize):\n        assert(len(self.data) < newsize)\n        \n    \n    def empty(self):\n        \n    \n    def __bool__(self):\n        return not self.empty()\n    \n    def __str__(self):\n        if not(self):\n            return ''\n        return ', '.join(str(x) for x in self)\n    \n    def __repr__(self):\n        return str(self)\n    \n    def __iter__(self):\n        ",
    "state": "graded"
   },
   "outputs": [
    {
     "name": "stdout",
     "output_type": "stream",
     "text": [
      "0, 1, 2, 3, 4, 5, None, None, None, None\n",
      "Head: -1\n",
      "0\n",
      "Head: 0\n",
      "Tail: 5\n",
      "None, 1, 2, 3, 4, 5, None, None, None, None\n",
      "1\n",
      "Head: 1\n",
      "Tail: 5\n",
      "None, None, 2, 3, 4, 5, None, None, None, None\n",
      "2\n",
      "Head: 2\n",
      "Tail: 5\n",
      "None, None, None, 3, 4, 5, None, None, None, None\n",
      "3\n",
      "Head: 3\n",
      "Tail: 5\n",
      "None, None, None, None, 4, 5, None, None, None, None\n",
      "4\n",
      "Head: 4\n",
      "Tail: 5\n",
      "None, None, None, None, None, 5, None, None, None, None\n"
     ]
    }
   ],
   "source": [
    "class Queue:\n",
    "    def __init__(self, limit=10):\n",
    "        self.data = [None] * limit\n",
    "        self.head = -1\n",
    "        self.tail = -1\n",
    "\n",
    "    def enqueue(self, val):\n",
    "        ### BEGIN SOLUTION\n",
    "        if self.tail == len(self.data)-1:\n",
    "            raise RuntimeError\n",
    "        if self.tail == -1:\n",
    "            self.tail = 0\n",
    "        else:\n",
    "            self.tail = (self.tail + 1) % len(self.data)\n",
    "        self.data[self.tail] = val\n",
    "        ### END SOLUTION\n",
    "        \n",
    "    def dequeue(self):\n",
    "        ### BEGIN SOLUTION\n",
    "        if self.empty():\n",
    "            raise RuntimeError\n",
    "        self.head = (self.head + 1) % len(self.data)\n",
    "        ret = self.data[self.head]\n",
    "        self.data[self.head] = None\n",
    "        #print(ret)\n",
    "        \n",
    "        return ret\n",
    "        ### END SOLUTION\n",
    "    \n",
    "    def resize(self, newsize): #will only *increase* size as stated in overview\n",
    "        assert(len(self.data) < newsize)\n",
    "        ### BEGIN SOLUTION\n",
    "        tmp = len(self.data)-1\n",
    "        newlst = [None] * (len(self.data)*2) #doubles list size\n",
    "        for x in range(len(self.data)):\n",
    "            newlst[x] = self.dequeue()\n",
    "        self.data = newlst\n",
    "        self.head = 0\n",
    "        self.tail = tmp\n",
    "        ### END SOLUTION\n",
    "    \n",
    "    def empty(self):\n",
    "        ### BEGIN SOLUTION\n",
    "        for x in self.data:\n",
    "            if x != None:\n",
    "                return False\n",
    "        return True\n",
    "        ### END SOLUTION\n",
    "        \n",
    "    def full(self):\n",
    "        for x in self.data:\n",
    "            if x == None:\n",
    "                return False\n",
    "        return True\n",
    "    \n",
    "    def __bool__(self):\n",
    "        return not self.empty()\n",
    "    \n",
    "    def __str__(self):\n",
    "        if not(self):\n",
    "            return ''\n",
    "        return ', '.join(str(x) for x in self)\n",
    "    \n",
    "    def __repr__(self):\n",
    "        return str(self)\n",
    "    \n",
    "    def __iter__(self):\n",
    "        ### BEGIN SOLUTION\n",
    "        for x in range(len(self.data)):\n",
    "            yield self.data[x]\n",
    "        ### END SOLUTION\n",
    "        \n",
    "q = Queue(10)\n",
    "for i in range(6):\n",
    "    q.enqueue(i)\n",
    "print(q)\n",
    "print(\"Head: \" + str(q.head))\n",
    "#print(q.tail)\n",
    "#print()\n",
    "for i in range(5):\n",
    "    print(q.dequeue())\n",
    "    print(\"Head: \" + str(q.head))\n",
    "    print(\"Tail: \" + str(q.tail))\n",
    "    print(q)"
   ]
  },
  {
   "cell_type": "code",
   "execution_count": 82,
   "metadata": {
    "deletable": false,
    "editable": false,
    "id": "queue_tests_1",
    "nbgrader": {
     "grade": true,
     "grade_id": "queue_tests_1",
     "locked": true,
     "points": 5,
     "schema_version": 1,
     "solution": false
    },
    "state": "read_only"
   },
   "outputs": [],
   "source": [
    "# (5 points)\n",
    "\n",
    "from unittest import TestCase\n",
    "tc = TestCase()\n",
    "\n",
    "q = Queue(5)\n",
    "tc.assertEqual(q.data, [None] * 5)\n",
    "\n",
    "for i in range(5):\n",
    "    q.enqueue(i)\n",
    "    \n",
    "with tc.assertRaises(RuntimeError):\n",
    "    q.enqueue(5)\n",
    "\n",
    "for i in range(5):\n",
    "    tc.assertEqual(q.dequeue(), i)\n",
    "    \n",
    "tc.assertTrue(q.empty())"
   ]
  },
  {
   "cell_type": "code",
   "execution_count": 83,
   "metadata": {
    "deletable": false,
    "editable": false,
    "id": "queue_tests_2",
    "nbgrader": {
     "grade": true,
     "grade_id": "queue_tests_2",
     "locked": true,
     "points": 5,
     "schema_version": 1,
     "solution": false
    },
    "state": "read_only"
   },
   "outputs": [
    {
     "ename": "AssertionError",
     "evalue": "4 != 5",
     "output_type": "error",
     "traceback": [
      "\u001b[1;31m---------------------------------------------------------------------------\u001b[0m",
      "\u001b[1;31mAssertionError\u001b[0m                            Traceback (most recent call last)",
      "\u001b[1;32m<ipython-input-83-31e7e4794372>\u001b[0m in \u001b[0;36m<module>\u001b[1;34m\u001b[0m\n\u001b[0;32m     16\u001b[0m \u001b[0mtc\u001b[0m\u001b[1;33m.\u001b[0m\u001b[0massertFalse\u001b[0m\u001b[1;33m(\u001b[0m\u001b[0mq\u001b[0m\u001b[1;33m.\u001b[0m\u001b[0mempty\u001b[0m\u001b[1;33m(\u001b[0m\u001b[1;33m)\u001b[0m\u001b[1;33m)\u001b[0m\u001b[1;33m\u001b[0m\u001b[1;33m\u001b[0m\u001b[0m\n\u001b[0;32m     17\u001b[0m \u001b[0mtc\u001b[0m\u001b[1;33m.\u001b[0m\u001b[0massertEqual\u001b[0m\u001b[1;33m(\u001b[0m\u001b[0mq\u001b[0m\u001b[1;33m.\u001b[0m\u001b[0mdata\u001b[0m\u001b[1;33m.\u001b[0m\u001b[0mcount\u001b[0m\u001b[1;33m(\u001b[0m\u001b[1;32mNone\u001b[0m\u001b[1;33m)\u001b[0m\u001b[1;33m,\u001b[0m \u001b[1;36m9\u001b[0m\u001b[1;33m)\u001b[0m\u001b[1;33m\u001b[0m\u001b[1;33m\u001b[0m\u001b[0m\n\u001b[1;32m---> 18\u001b[1;33m \u001b[0mtc\u001b[0m\u001b[1;33m.\u001b[0m\u001b[0massertEqual\u001b[0m\u001b[1;33m(\u001b[0m\u001b[0mq\u001b[0m\u001b[1;33m.\u001b[0m\u001b[0mhead\u001b[0m\u001b[1;33m,\u001b[0m \u001b[0mq\u001b[0m\u001b[1;33m.\u001b[0m\u001b[0mtail\u001b[0m\u001b[1;33m)\u001b[0m\u001b[1;33m\u001b[0m\u001b[1;33m\u001b[0m\u001b[0m\n\u001b[0m\u001b[0;32m     19\u001b[0m \u001b[0mtc\u001b[0m\u001b[1;33m.\u001b[0m\u001b[0massertEqual\u001b[0m\u001b[1;33m(\u001b[0m\u001b[0mq\u001b[0m\u001b[1;33m.\u001b[0m\u001b[0mhead\u001b[0m\u001b[1;33m,\u001b[0m \u001b[1;36m5\u001b[0m\u001b[1;33m)\u001b[0m\u001b[1;33m\u001b[0m\u001b[1;33m\u001b[0m\u001b[0m\n\u001b[0;32m     20\u001b[0m \u001b[1;33m\u001b[0m\u001b[0m\n",
      "\u001b[1;32m~\\Miniconda3\\lib\\unittest\\case.py\u001b[0m in \u001b[0;36massertEqual\u001b[1;34m(self, first, second, msg)\u001b[0m\n\u001b[0;32m    850\u001b[0m         \"\"\"\n\u001b[0;32m    851\u001b[0m         \u001b[0massertion_func\u001b[0m \u001b[1;33m=\u001b[0m \u001b[0mself\u001b[0m\u001b[1;33m.\u001b[0m\u001b[0m_getAssertEqualityFunc\u001b[0m\u001b[1;33m(\u001b[0m\u001b[0mfirst\u001b[0m\u001b[1;33m,\u001b[0m \u001b[0msecond\u001b[0m\u001b[1;33m)\u001b[0m\u001b[1;33m\u001b[0m\u001b[1;33m\u001b[0m\u001b[0m\n\u001b[1;32m--> 852\u001b[1;33m         \u001b[0massertion_func\u001b[0m\u001b[1;33m(\u001b[0m\u001b[0mfirst\u001b[0m\u001b[1;33m,\u001b[0m \u001b[0msecond\u001b[0m\u001b[1;33m,\u001b[0m \u001b[0mmsg\u001b[0m\u001b[1;33m=\u001b[0m\u001b[0mmsg\u001b[0m\u001b[1;33m)\u001b[0m\u001b[1;33m\u001b[0m\u001b[1;33m\u001b[0m\u001b[0m\n\u001b[0m\u001b[0;32m    853\u001b[0m \u001b[1;33m\u001b[0m\u001b[0m\n\u001b[0;32m    854\u001b[0m     \u001b[1;32mdef\u001b[0m \u001b[0massertNotEqual\u001b[0m\u001b[1;33m(\u001b[0m\u001b[0mself\u001b[0m\u001b[1;33m,\u001b[0m \u001b[0mfirst\u001b[0m\u001b[1;33m,\u001b[0m \u001b[0msecond\u001b[0m\u001b[1;33m,\u001b[0m \u001b[0mmsg\u001b[0m\u001b[1;33m=\u001b[0m\u001b[1;32mNone\u001b[0m\u001b[1;33m)\u001b[0m\u001b[1;33m:\u001b[0m\u001b[1;33m\u001b[0m\u001b[1;33m\u001b[0m\u001b[0m\n",
      "\u001b[1;32m~\\Miniconda3\\lib\\unittest\\case.py\u001b[0m in \u001b[0;36m_baseAssertEqual\u001b[1;34m(self, first, second, msg)\u001b[0m\n\u001b[0;32m    843\u001b[0m             \u001b[0mstandardMsg\u001b[0m \u001b[1;33m=\u001b[0m \u001b[1;34m'%s != %s'\u001b[0m \u001b[1;33m%\u001b[0m \u001b[0m_common_shorten_repr\u001b[0m\u001b[1;33m(\u001b[0m\u001b[0mfirst\u001b[0m\u001b[1;33m,\u001b[0m \u001b[0msecond\u001b[0m\u001b[1;33m)\u001b[0m\u001b[1;33m\u001b[0m\u001b[1;33m\u001b[0m\u001b[0m\n\u001b[0;32m    844\u001b[0m             \u001b[0mmsg\u001b[0m \u001b[1;33m=\u001b[0m \u001b[0mself\u001b[0m\u001b[1;33m.\u001b[0m\u001b[0m_formatMessage\u001b[0m\u001b[1;33m(\u001b[0m\u001b[0mmsg\u001b[0m\u001b[1;33m,\u001b[0m \u001b[0mstandardMsg\u001b[0m\u001b[1;33m)\u001b[0m\u001b[1;33m\u001b[0m\u001b[1;33m\u001b[0m\u001b[0m\n\u001b[1;32m--> 845\u001b[1;33m             \u001b[1;32mraise\u001b[0m \u001b[0mself\u001b[0m\u001b[1;33m.\u001b[0m\u001b[0mfailureException\u001b[0m\u001b[1;33m(\u001b[0m\u001b[0mmsg\u001b[0m\u001b[1;33m)\u001b[0m\u001b[1;33m\u001b[0m\u001b[1;33m\u001b[0m\u001b[0m\n\u001b[0m\u001b[0;32m    846\u001b[0m \u001b[1;33m\u001b[0m\u001b[0m\n\u001b[0;32m    847\u001b[0m     \u001b[1;32mdef\u001b[0m \u001b[0massertEqual\u001b[0m\u001b[1;33m(\u001b[0m\u001b[0mself\u001b[0m\u001b[1;33m,\u001b[0m \u001b[0mfirst\u001b[0m\u001b[1;33m,\u001b[0m \u001b[0msecond\u001b[0m\u001b[1;33m,\u001b[0m \u001b[0mmsg\u001b[0m\u001b[1;33m=\u001b[0m\u001b[1;32mNone\u001b[0m\u001b[1;33m)\u001b[0m\u001b[1;33m:\u001b[0m\u001b[1;33m\u001b[0m\u001b[1;33m\u001b[0m\u001b[0m\n",
      "\u001b[1;31mAssertionError\u001b[0m: 4 != 5"
     ]
    }
   ],
   "source": [
    "# (5 points)\n",
    "\n",
    "from unittest import TestCase\n",
    "tc = TestCase()\n",
    "\n",
    "q = Queue(10)\n",
    "\n",
    "for i in range(6):\n",
    "    q.enqueue(i)\n",
    "    \n",
    "tc.assertEqual(q.data.count(None), 4)\n",
    "\n",
    "for i in range(5):\n",
    "    q.dequeue()\n",
    "    \n",
    "tc.assertFalse(q.empty())\n",
    "tc.assertEqual(q.data.count(None), 9)\n",
    "tc.assertEqual(q.head, q.tail)\n",
    "tc.assertEqual(q.head, 5)\n",
    "\n",
    "for i in range(9):\n",
    "    q.enqueue(i)\n",
    "\n",
    "with tc.assertRaises(RuntimeError):\n",
    "    q.enqueue(10)\n",
    "\n",
    "for x, y in zip(q, [5] + list(range(9))):\n",
    "    tc.assertEqual(x, y)\n",
    "    \n",
    "tc.assertEqual(q.dequeue(), 5)\n",
    "for i in range(9):\n",
    "    tc.assertEqual(q.dequeue(), i)\n",
    "\n",
    "tc.assertTrue(q.empty())"
   ]
  },
  {
   "cell_type": "code",
   "execution_count": 69,
   "metadata": {
    "deletable": false,
    "editable": false,
    "id": "queue_tests_3",
    "nbgrader": {
     "grade": true,
     "grade_id": "queue_tests_3",
     "locked": true,
     "points": 5,
     "schema_version": 1,
     "solution": false
    },
    "state": "read_only"
   },
   "outputs": [
    {
     "ename": "RuntimeError",
     "evalue": "",
     "output_type": "error",
     "traceback": [
      "\u001b[1;31m---------------------------------------------------------------------------\u001b[0m",
      "\u001b[1;31mRuntimeError\u001b[0m                              Traceback (most recent call last)",
      "\u001b[1;32m<ipython-input-69-6b4fabf59798>\u001b[0m in \u001b[0;36m<module>\u001b[1;34m\u001b[0m\n\u001b[0;32m     10\u001b[0m     \u001b[0mq\u001b[0m\u001b[1;33m.\u001b[0m\u001b[0mdequeue\u001b[0m\u001b[1;33m(\u001b[0m\u001b[1;33m)\u001b[0m\u001b[1;33m\u001b[0m\u001b[1;33m\u001b[0m\u001b[0m\n\u001b[0;32m     11\u001b[0m \u001b[1;32mfor\u001b[0m \u001b[0mi\u001b[0m \u001b[1;32min\u001b[0m \u001b[0mrange\u001b[0m\u001b[1;33m(\u001b[0m\u001b[1;36m5\u001b[0m\u001b[1;33m,\u001b[0m \u001b[1;36m9\u001b[0m\u001b[1;33m)\u001b[0m\u001b[1;33m:\u001b[0m\u001b[1;33m\u001b[0m\u001b[1;33m\u001b[0m\u001b[0m\n\u001b[1;32m---> 12\u001b[1;33m     \u001b[0mq\u001b[0m\u001b[1;33m.\u001b[0m\u001b[0menqueue\u001b[0m\u001b[1;33m(\u001b[0m\u001b[0mi\u001b[0m\u001b[1;33m)\u001b[0m\u001b[1;33m\u001b[0m\u001b[1;33m\u001b[0m\u001b[0m\n\u001b[0m\u001b[0;32m     13\u001b[0m \u001b[1;33m\u001b[0m\u001b[0m\n\u001b[0;32m     14\u001b[0m \u001b[1;32mwith\u001b[0m \u001b[0mtc\u001b[0m\u001b[1;33m.\u001b[0m\u001b[0massertRaises\u001b[0m\u001b[1;33m(\u001b[0m\u001b[0mRuntimeError\u001b[0m\u001b[1;33m)\u001b[0m\u001b[1;33m:\u001b[0m\u001b[1;33m\u001b[0m\u001b[1;33m\u001b[0m\u001b[0m\n",
      "\u001b[1;32m<ipython-input-66-6a190e8e51bb>\u001b[0m in \u001b[0;36menqueue\u001b[1;34m(self, val)\u001b[0m\n\u001b[0;32m      8\u001b[0m         \u001b[1;31m### BEGIN SOLUTION\u001b[0m\u001b[1;33m\u001b[0m\u001b[1;33m\u001b[0m\u001b[1;33m\u001b[0m\u001b[0m\n\u001b[0;32m      9\u001b[0m         \u001b[1;32mif\u001b[0m \u001b[0mself\u001b[0m\u001b[1;33m.\u001b[0m\u001b[0mtail\u001b[0m \u001b[1;33m==\u001b[0m \u001b[0mlen\u001b[0m\u001b[1;33m(\u001b[0m\u001b[0mself\u001b[0m\u001b[1;33m.\u001b[0m\u001b[0mdata\u001b[0m\u001b[1;33m)\u001b[0m\u001b[1;33m-\u001b[0m\u001b[1;36m1\u001b[0m\u001b[1;33m:\u001b[0m\u001b[1;33m\u001b[0m\u001b[1;33m\u001b[0m\u001b[0m\n\u001b[1;32m---> 10\u001b[1;33m             \u001b[1;32mraise\u001b[0m \u001b[0mRuntimeError\u001b[0m\u001b[1;33m\u001b[0m\u001b[1;33m\u001b[0m\u001b[0m\n\u001b[0m\u001b[0;32m     11\u001b[0m         \u001b[1;32mif\u001b[0m \u001b[0mself\u001b[0m\u001b[1;33m.\u001b[0m\u001b[0mtail\u001b[0m \u001b[1;33m==\u001b[0m \u001b[1;33m-\u001b[0m\u001b[1;36m1\u001b[0m\u001b[1;33m:\u001b[0m\u001b[1;33m\u001b[0m\u001b[1;33m\u001b[0m\u001b[0m\n\u001b[0;32m     12\u001b[0m             \u001b[0mself\u001b[0m\u001b[1;33m.\u001b[0m\u001b[0mtail\u001b[0m \u001b[1;33m=\u001b[0m \u001b[1;36m0\u001b[0m\u001b[1;33m\u001b[0m\u001b[1;33m\u001b[0m\u001b[0m\n",
      "\u001b[1;31mRuntimeError\u001b[0m: "
     ]
    }
   ],
   "source": [
    "# (5 points)\n",
    "\n",
    "from unittest import TestCase\n",
    "tc = TestCase()\n",
    "\n",
    "q = Queue(5)\n",
    "for i in range(5):\n",
    "    q.enqueue(i)\n",
    "for i in range(4):\n",
    "    q.dequeue()\n",
    "for i in range(5, 9):\n",
    "    q.enqueue(i)\n",
    "    \n",
    "with tc.assertRaises(RuntimeError):\n",
    "    q.enqueue(10)\n",
    "\n",
    "q.resize(10)\n",
    "\n",
    "for x, y in zip(q, range(4, 9)):\n",
    "    tc.assertEqual(x, y)\n",
    "    \n",
    "for i in range(9, 14):\n",
    "    q.enqueue(i)\n",
    "\n",
    "for i in range(4, 14):\n",
    "    tc.assertEqual(q.dequeue(), i)\n",
    "    \n",
    "tc.assertTrue(q.empty())\n",
    "tc.assertEqual(q.head, -1)"
   ]
  },
  {
   "cell_type": "code",
   "execution_count": null,
   "metadata": {},
   "outputs": [],
   "source": []
  }
 ],
 "metadata": {
  "kernelspec": {
   "display_name": "Python 3",
   "language": "python",
   "name": "python3"
  },
  "language_info": {
   "codemirror_mode": {
    "name": "ipython",
    "version": 3
   },
   "file_extension": ".py",
   "mimetype": "text/x-python",
   "name": "python",
   "nbconvert_exporter": "python",
   "pygments_lexer": "ipython3",
   "version": "3.7.4"
  },
  "mimir": {
   "data": {},
   "last_submission_id": "",
   "project_id": "5ebae0e9-88f4-48cf-965c-d55aff8e500c"
  },
  "varInspector": {
   "cols": {
    "lenName": 16,
    "lenType": 16,
    "lenVar": 40
   },
   "kernels_config": {
    "python": {
     "delete_cmd_postfix": "",
     "delete_cmd_prefix": "del ",
     "library": "var_list.py",
     "varRefreshCmd": "print(var_dic_list())"
    },
    "r": {
     "delete_cmd_postfix": ") ",
     "delete_cmd_prefix": "rm(",
     "library": "var_list.r",
     "varRefreshCmd": "cat(var_dic_list()) "
    }
   },
   "types_to_exclude": [
    "module",
    "function",
    "builtin_function_or_method",
    "instance",
    "_Feature"
   ],
   "window_display": false
  }
 },
 "nbformat": 4,
 "nbformat_minor": 2
}
