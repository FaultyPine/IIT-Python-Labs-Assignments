{
 "cells": [
  {
   "cell_type": "markdown",
   "metadata": {
    "state": "normal"
   },
   "source": [
    "# Lab 02: Iocane Powder\n",
    "\n",
    "## Overview\n",
    "\n",
    "> Man in Black: All right. Where is the poison? The battle of wits has begun. It ends when you decide and we both drink, and find out who is right... and who is dead. \n",
    "\n",
    "The line above is from the perennial favorite 1980s movie adaptation of William Goldman's *The Princess Bride*, wherein a mysterious hero sits down to a battle of wits with a villainous Sicilian kidnapper. The setup: two cups positioned between the two, one of which (purportedly) contains a colorless, odorless, lethal poison (viz., iocane powder). After a guess is made as to which cup contains the poison, both drink, and the winner is the one left standing.\n",
    "\n",
    "For this machine problem you will write a program that simulates multiple rounds of this battle of wits, allowing the player to repeatedly guess which cup is poisoned. The computer will \"place\" the poison before the player guesses, and\n",
    "will reveal who is right... and who is dead, afterwards.\n",
    "\n",
    "At the outset, the computer will always place the poison in cup 2 before letting the player guess, but after enough guesses have been entered the computer will start to place the poison based on the pattern of previous guesses so as to outsmart the player.\n",
    "\n",
    "Here's a sample game session (note how the silly player keeps alternating guesses, and that the computer catches on to this fact after a while):\n",
    "\n",
    "    Where is the iocane powder: my cup (1) or yours (2)? 1\n",
    "    Wrong! Ha! Never bet against a Sicilian!\n",
    "\n",
    "    You died 1 times, and I drank the poison 0 times\n",
    "\n",
    "    Where is the iocane powder: my cup (1) or yours (2)? 2\n",
    "    Good guess! Ack! I drank the poison!\n",
    "\n",
    "    You died 1 times, and I drank the poison 1 times\n",
    "\n",
    "    Where is the iocane powder: my cup (1) or yours (2)? 1\n",
    "    Wrong! Ha! Never bet against a Sicilian!\n",
    "\n",
    "    You died 2 times, and I drank the poison 1 times\n",
    "\n",
    "    Where is the iocane powder: my cup (1) or yours (2)? 2\n",
    "    Good guess! Ack! I drank the poison!\n",
    "\n",
    "    You died 2 times, and I drank the poison 2 times\n",
    "\n",
    "    Where is the iocane powder: my cup (1) or yours (2)? 1\n",
    "    Wrong! Ha! Never bet against a Sicilian!\n",
    "\n",
    "    You died 3 times, and I drank the poison 2 times\n",
    "\n",
    "    Where is the iocane powder: my cup (1) or yours (2)? 2\n",
    "    Wrong! Ha! Never bet against a Sicilian!\n",
    "\n",
    "    You died 4 times, and I drank the poison 2 times\n",
    "\n",
    "    Where is the iocane powder: my cup (1) or yours (2)? 1\n",
    "    Wrong! Ha! Never bet against a Sicilian!\n",
    "\n",
    "    You died 5 times, and I drank the poison 2 times\n",
    "\n",
    "    Where is the iocane powder: my cup (1) or yours (2)? 2\n",
    "    Wrong! Ha! Never bet against a Sicilian!\n",
    "\n",
    "    You died 6 times, and I drank the poison 2 times\n",
    "\n",
    "    Where is the iocane powder: my cup (1) or yours (2)? 1\n",
    "    Wrong! Ha! Never bet against a Sicilian!\n",
    "\n",
    "    You died 7 times, and I drank the poison 2 times\n",
    "\n",
    "\n",
    "## Implementation\n",
    "\n",
    "To keep track of the pattern of previous guesses, you will use a dictionary that maps a pattern (of fixed length) to a list of counts for the subsequent guess. \n",
    "\n",
    "For instance, imagine that the computer observes the player continuing to alternate guesses across ten separate attempts, like so: '1', '2', '1', '2', '1', '2', '1', '2', '1', '2'. If we are using a pattern detection length of three, then after the fourth guess we can create an entry in our dictionary that maps the key '121' to the list [0, 1], where the second value (1) in the list indicates that the player guessed '2' following the sequence '1', '2', '1'. After the fifth guess, we create the entry '212' &rarr; [1, 0], and after the sixth guess we update the value for '121' to [0, 2] (since the user guesses '2' again, after the sequence '1', '2', '1').\n",
    "\n",
    "Once the player enters a series of guesses that matches a previously seen pattern, the computer should place the poison in the cup that the player is *least likely to guess next*. When the player enters the next guess, the dictionary should be updated to reflect the actual guess.\n",
    "\n",
    "This means that if the computer has yet to see a given pattern of guesses, or when the counts are tied, it will have to place the poison \"blindly\" --- your implementation should simply place the poison furthest away from itself (cup 2). \n",
    "\n",
    "### `record_guess`\n",
    "\n",
    "The first function you are to complete is `record_guess`. It will take the following arguments:\n",
    "\n",
    "- a dictionary to update (possibly containing previously recorded pattern &rarr; list mappings)\n",
    "- a pattern string\n",
    "- a guess -- which is either '1' or '2'.  \n",
    "\n",
    "If necessary, the function will create a new entry for the pattern (if one doesn't already exist), then record the updated count for the guess. Since the dictionary is updated in place (i.e., mutated), the function will not return anything. \n",
    "\n",
    "Complete the function below, checking your implementation with the test cases that follow when you're ready. Note that in the future, the bulk of the description for functions we ask you to implement will simply be placed in the functions' docstrings, as below.\n",
    "\n",
    "*Hints: the [`int`](https://docs.python.org/3/library/functions.html#int) function can be used to convert strings to integers, and you might find the dictionary's [`setdefault`](https://docs.python.org/3/library/stdtypes.html?highlight=setdefault#dict.setdefault) method useful.*"
   ]
  },
  {
   "cell_type": "code",
   "execution_count": 5,
   "metadata": {},
   "outputs": [],
   "source": [
    "def record_guess(pattern_dict, pattern, guess):\n",
    "    \n",
    "    if not pattern in pattern_dict:\n",
    "        pattern_dict[pattern] = [0,0]\n",
    "    if guess == \"1\":\n",
    "        pattern_dict[pattern][0] +=1 \n",
    "        \n",
    "    elif guess == \"2\":\n",
    "        pattern_dict[pattern][1] +=1\n",
    "    \n",
    "    \"\"\"Updates the `pattern_dict` dictionary by either creating a new entry\n",
    "    or updating an existing entry for key `pattern`, increasing the count \n",
    "    corresponding to `guess` in the list.\"\"\"\n",
    "    "
   ]
  },
  {
   "cell_type": "code",
   "execution_count": 6,
   "metadata": {},
   "outputs": [],
   "source": [
    "# (5 points)\n",
    "\n",
    "from unittest import TestCase\n",
    "tc = TestCase()\n",
    "d = {}\n",
    "record_guess(d, '121', '1')\n",
    "tc.assertDictEqual(d, {'121': [1, 0]})\n",
    "record_guess(d, '222', '2')\n",
    "record_guess(d, '121', '1')\n",
    "tc.assertDictEqual(d, {'121': [2, 0], '222': [0, 1]})\n",
    "record_guess(d, '122', '2')\n",
    "record_guess(d, '121', '2')\n",
    "record_guess(d, '222', '2')\n",
    "tc.assertDictEqual(d, {'121': [2, 1], '122': [0, 1], '222': [0, 2]})"
   ]
  },
  {
   "cell_type": "markdown",
   "metadata": {
    "state": "normal"
   },
   "source": [
    "### `next_placement`\n",
    "\n",
    "The next function you'll write will take a dictionary of pattern &rarr; counts mappings and a string representing the pattern of most recent guesses, and return the next best location (either '1' or '2') for the poison (i.e., to try and outwit the player). If the pattern hasn't been seen previously or the counts are tied, the function should return '2'."
   ]
  },
  {
   "cell_type": "code",
   "execution_count": 7,
   "metadata": {},
   "outputs": [],
   "source": [
    "def next_placement(pattern_dict, pattern):\n",
    "\n",
    "    if pattern in pattern_dict and pattern_dict[pattern][0] != pattern_dict[pattern][1]:\n",
    "        if int(pattern_dict[pattern][0]) > int(pattern_dict[pattern][1]):\n",
    "            return '2'\n",
    "        elif int(pattern_dict[pattern][0]) < int(pattern_dict[pattern][1]):\n",
    "            return '1'\n",
    "    \n",
    "    return '2'\n",
    "    "
   ]
  },
  {
   "cell_type": "code",
   "execution_count": 8,
   "metadata": {},
   "outputs": [],
   "source": [
    "# (5 points)\n",
    "\n",
    "from unittest import TestCase\n",
    "tc = TestCase()\n",
    "tc.assertEqual(next_placement({}, '121'), '2')\n",
    "tc.assertEqual(next_placement({'121': [2, 0]}, '121'), '2')\n",
    "tc.assertEqual(next_placement({'121': [2, 5]}, '121'), '1')\n",
    "tc.assertEqual(next_placement({'121': [2, 5]}, '212'), '2')\n",
    "tc.assertEqual(next_placement({'121': [5, 5]}, '121'), '2')\n",
    "tc.assertEqual(next_placement({'121': [15, 5]}, '121'), '2')\n",
    "tc.assertEqual(next_placement({'121': [2, 5],\n",
    "                               '212': [1, 1]}, '212'), '2')\n",
    "tc.assertEqual(next_placement({'121': [2, 5],\n",
    "                               '212': [1, 3]}, '212'), '1')"
   ]
  },
  {
   "cell_type": "markdown",
   "metadata": {
    "state": "normal"
   },
   "source": [
    "### `play_interactive`\n",
    "\n",
    "Now for the fun bit. The function `play_interactive` will take just one argument --- the length of patterns to use as keys in the dictionary --- and will start an interactive game session, reading either '1' or '2' from the player as guesses, using the functions you wrote above and producing output as shown in the sample game session at the beginning of this writeup. If the player types in any other input (besides '1' or '2'), the game should terminate.\n",
    "\n",
    "*Hint: the [`input`](https://docs.python.org/3/library/functions.html#input) function can be used to read input from the user as a string.*"
   ]
  },
  {
   "cell_type": "code",
   "execution_count": 35,
   "metadata": {},
   "outputs": [
    {
     "name": "stdout",
     "output_type": "stream",
     "text": "Wrong! Ha! Never bet against a Sicilian!\nWrong! Ha! Never bet against a Sicilian!\nWrong! Ha! Never bet against a Sicilian!\nWrong! Ha! Never bet against a Sicilian!\nWrong! Ha! Never bet against a Sicilian!\nWrong! Ha! Never bet against a Sicilian!\nWrong! Ha! Never bet against a Sicilian!\nWrong! Ha! Never bet against a Sicilian!\nWrong! Ha! Never bet against a Sicilian!\nWrong! Ha! Never bet against a Sicilian!\nWrong! Ha! Never bet against a Sicilian!\nWrong! Ha! Never bet against a Sicilian!\nWrong! Ha! Never bet against a Sicilian!\nWrong! Ha! Never bet against a Sicilian!\nWrong! Ha! Never bet against a Sicilian!\nWrong! Ha! Never bet against a Sicilian!\nWrong! Ha! Never bet against a Sicilian!\nWrong! Ha! Never bet against a Sicilian!\nWrong! Ha! Never bet against a Sicilian!\nExiting\n"
    }
   ],
   "source": [
    "def play_interactive(pattern_length=4):\n",
    "    dictn = {}\n",
    "    pattern = \"\"\n",
    "    score = [0,0]\n",
    "    turn = 0    \n",
    "    while True:\n",
    "        guess = input(\"Where is the iocane powder: my cup (1) or yours (2)?\")\n",
    "        if guess != \"1\" and guess != \"2\":\n",
    "            print(\"Exiting\")\n",
    "            return\n",
    "\n",
    "        if(len(pattern) < pattern_length):\n",
    "            pattern += guess\n",
    "        else:\n",
    "            temp = \"\"\n",
    "            for x in range(1, pattern_length):\n",
    "                temp += pattern[x]\n",
    "            temp += guess\n",
    "            pattern = temp\n",
    "            record_guess(dictn, pattern, guess)\n",
    "        next_place = next_placement(dictn, pattern)\n",
    "        \n",
    "        if next_place != guess:\n",
    "            score[1] += 1\n",
    "            print(\"Wrong! Ha! Never bet against a Sicilian!\")\n",
    "        elif next_place == guess:\n",
    "            score[0] += 1\n",
    "            print(\"Good guess! Ack! I drank the poison!\")\n",
    "        turn += 1\n",
    "\n",
    "    return tuple(score)\n",
    "\n",
    "play_interactive()"
   ]
  },
  {
   "cell_type": "markdown",
   "metadata": {
    "state": "normal"
   },
   "source": [
    "### `play_batch`\n",
    "\n",
    "Finally, so that we can check your implementation against a lengthier sequence of guesses without having to play an interactive session, implement the `play_batch` function, which will take the `pattern_length` argument as your `play_interactive` function did, but will also take a sequence of guesses. The function will return the total numbers of wins and losses, as determined by the same algorithm as before."
   ]
  },
  {
   "cell_type": "code",
   "execution_count": 36,
   "metadata": {},
   "outputs": [
    {
     "name": "stdout",
     "output_type": "stream",
     "text": "2\ndict: {}\npat: 1\n[0, 1]\n\n2\ndict: {}\npat: 12\n[1, 1]\n\n2\ndict: {}\npat: 121\n[1, 2]\n\n1\ndict: {'212': [0, 1]}\npat: 212\n[1, 3]\n\n2\ndict: {'212': [0, 1], '121': [1, 0]}\npat: 121\n[1, 4]\n\n1\ndict: {'212': [0, 2], '121': [1, 0]}\npat: 212\n[1, 5]\n\n"
    },
    {
     "data": {
      "text/plain": "(1, 5)"
     },
     "execution_count": 36,
     "metadata": {},
     "output_type": "execute_result"
    }
   ],
   "source": [
    "\n",
    "def play_batch(guesses, pattern_length=3):\n",
    "    dictn = {}\n",
    "    pattern = \"\"\n",
    "    score = [0,0]\n",
    "    turn = 0\n",
    "    for guess in guesses:\n",
    "\n",
    "        if(len(pattern) < pattern_length):\n",
    "            pattern += guess\n",
    "        else:\n",
    "            temp = \"\"\n",
    "            for x in range(1, pattern_length):\n",
    "                temp += pattern[x]\n",
    "            temp += guess\n",
    "            pattern = temp\n",
    "            record_guess(dictn, pattern, guess)\n",
    "        \n",
    "        \n",
    "        next_place = next_placement(dictn, pattern)\n",
    "        print(next_place)\n",
    "        if next_place != guess:\n",
    "            score[1] += 1\n",
    "        elif next_place == guess:\n",
    "            score[0] += 1\n",
    "        turn += 1\n",
    "\n",
    "        print(\"dict: \" + str(dictn))\n",
    "        print(\"pat: \" + pattern)\n",
    "        print(score)\n",
    "        print()\n",
    "    return tuple(score)\n",
    "play_batch(['1', '2', '1', '2', '1', '2'], 3)"
   ]
  },
  {
   "cell_type": "code",
   "execution_count": 37,
   "metadata": {},
   "outputs": [
    {
     "name": "stdout",
     "output_type": "stream",
     "text": "2\ndict: {}\npat: 1\n[0, 1]\n\n2\ndict: {}\npat: 11\n[0, 2]\n\n2\ndict: {}\npat: 111\n[0, 3]\n\n2\ndict: {'111': [1, 0]}\npat: 111\n[0, 4]\n\n2\ndict: {'111': [2, 0]}\npat: 111\n[0, 5]\n\n2\ndict: {'111': [3, 0]}\npat: 111\n[0, 6]\n\n2\ndict: {}\npat: 1\n[0, 1]\n\n2\ndict: {}\npat: 12\n[1, 1]\n\n2\ndict: {}\npat: 121\n[1, 2]\n\n1\ndict: {'212': [0, 1]}\npat: 212\n[1, 3]\n\n2\ndict: {'212': [0, 1], '121': [1, 0]}\npat: 121\n[1, 4]\n\n1\ndict: {'212': [0, 2], '121': [1, 0]}\npat: 212\n[1, 5]\n\n"
    },
    {
     "ename": "AssertionError",
     "evalue": "Tuples differ: (1, 5) != (2, 4)\n\nFirst differing element 0:\n1\n2\n\n- (1, 5)\n+ (2, 4)",
     "output_type": "error",
     "traceback": [
      "\u001b[1;31m---------------------------------------------------------------------------\u001b[0m",
      "\u001b[1;31mAssertionError\u001b[0m                            Traceback (most recent call last)",
      "\u001b[1;32m<ipython-input-37-d4628bda183b>\u001b[0m in \u001b[0;36m<module>\u001b[1;34m\u001b[0m\n\u001b[0;32m      4\u001b[0m \u001b[0mtc\u001b[0m \u001b[1;33m=\u001b[0m \u001b[0mTestCase\u001b[0m\u001b[1;33m(\u001b[0m\u001b[1;33m)\u001b[0m\u001b[1;33m\u001b[0m\u001b[1;33m\u001b[0m\u001b[0m\n\u001b[0;32m      5\u001b[0m \u001b[0mtc\u001b[0m\u001b[1;33m.\u001b[0m\u001b[0massertEqual\u001b[0m\u001b[1;33m(\u001b[0m\u001b[0mplay_batch\u001b[0m\u001b[1;33m(\u001b[0m\u001b[1;33m[\u001b[0m\u001b[1;34m'1'\u001b[0m\u001b[1;33m,\u001b[0m \u001b[1;34m'1'\u001b[0m\u001b[1;33m,\u001b[0m \u001b[1;34m'1'\u001b[0m\u001b[1;33m,\u001b[0m \u001b[1;34m'1'\u001b[0m\u001b[1;33m,\u001b[0m \u001b[1;34m'1'\u001b[0m\u001b[1;33m,\u001b[0m \u001b[1;34m'1'\u001b[0m\u001b[1;33m]\u001b[0m\u001b[1;33m,\u001b[0m \u001b[1;36m3\u001b[0m\u001b[1;33m)\u001b[0m\u001b[1;33m,\u001b[0m \u001b[1;33m(\u001b[0m\u001b[1;36m0\u001b[0m\u001b[1;33m,\u001b[0m \u001b[1;36m6\u001b[0m\u001b[1;33m)\u001b[0m\u001b[1;33m)\u001b[0m\u001b[1;33m\u001b[0m\u001b[1;33m\u001b[0m\u001b[0m\n\u001b[1;32m----> 6\u001b[1;33m \u001b[0mtc\u001b[0m\u001b[1;33m.\u001b[0m\u001b[0massertEqual\u001b[0m\u001b[1;33m(\u001b[0m\u001b[0mplay_batch\u001b[0m\u001b[1;33m(\u001b[0m\u001b[1;33m[\u001b[0m\u001b[1;34m'1'\u001b[0m\u001b[1;33m,\u001b[0m \u001b[1;34m'2'\u001b[0m\u001b[1;33m,\u001b[0m \u001b[1;34m'1'\u001b[0m\u001b[1;33m,\u001b[0m \u001b[1;34m'2'\u001b[0m\u001b[1;33m,\u001b[0m \u001b[1;34m'1'\u001b[0m\u001b[1;33m,\u001b[0m \u001b[1;34m'2'\u001b[0m\u001b[1;33m]\u001b[0m\u001b[1;33m,\u001b[0m \u001b[1;36m3\u001b[0m\u001b[1;33m)\u001b[0m\u001b[1;33m,\u001b[0m \u001b[1;33m(\u001b[0m\u001b[1;36m2\u001b[0m\u001b[1;33m,\u001b[0m \u001b[1;36m4\u001b[0m\u001b[1;33m)\u001b[0m\u001b[1;33m)\u001b[0m\u001b[1;33m\u001b[0m\u001b[1;33m\u001b[0m\u001b[0m\n\u001b[0m\u001b[0;32m      7\u001b[0m \u001b[0mtc\u001b[0m\u001b[1;33m.\u001b[0m\u001b[0massertEqual\u001b[0m\u001b[1;33m(\u001b[0m\u001b[0mplay_batch\u001b[0m\u001b[1;33m(\u001b[0m\u001b[1;33m[\u001b[0m\u001b[1;34m'1'\u001b[0m\u001b[1;33m,\u001b[0m \u001b[1;34m'2'\u001b[0m\u001b[1;33m,\u001b[0m \u001b[1;34m'1'\u001b[0m\u001b[1;33m,\u001b[0m \u001b[1;34m'2'\u001b[0m\u001b[1;33m,\u001b[0m \u001b[1;34m'1'\u001b[0m\u001b[1;33m,\u001b[0m \u001b[1;34m'2'\u001b[0m\u001b[1;33m]\u001b[0m\u001b[1;33m,\u001b[0m \u001b[1;36m4\u001b[0m\u001b[1;33m)\u001b[0m\u001b[1;33m,\u001b[0m \u001b[1;33m(\u001b[0m\u001b[1;36m3\u001b[0m\u001b[1;33m,\u001b[0m \u001b[1;36m3\u001b[0m\u001b[1;33m)\u001b[0m\u001b[1;33m)\u001b[0m\u001b[1;33m\u001b[0m\u001b[1;33m\u001b[0m\u001b[0m\n\u001b[0;32m      8\u001b[0m \u001b[0mtc\u001b[0m\u001b[1;33m.\u001b[0m\u001b[0massertEqual\u001b[0m\u001b[1;33m(\u001b[0m\u001b[0mplay_batch\u001b[0m\u001b[1;33m(\u001b[0m\u001b[1;33m[\u001b[0m\u001b[1;34m'1'\u001b[0m\u001b[1;33m,\u001b[0m \u001b[1;34m'2'\u001b[0m\u001b[1;33m]\u001b[0m \u001b[1;33m*\u001b[0m \u001b[1;36m100\u001b[0m\u001b[1;33m,\u001b[0m \u001b[1;36m5\u001b[0m\u001b[1;33m)\u001b[0m\u001b[1;33m,\u001b[0m \u001b[1;33m(\u001b[0m\u001b[1;36m3\u001b[0m\u001b[1;33m,\u001b[0m \u001b[1;36m197\u001b[0m\u001b[1;33m)\u001b[0m\u001b[1;33m)\u001b[0m\u001b[1;33m\u001b[0m\u001b[1;33m\u001b[0m\u001b[0m\n",
      "\u001b[1;32m~\\AppData\\Local\\Programs\\Python\\Python38\\lib\\unittest\\case.py\u001b[0m in \u001b[0;36massertEqual\u001b[1;34m(self, first, second, msg)\u001b[0m\n\u001b[0;32m    910\u001b[0m         \"\"\"\n\u001b[0;32m    911\u001b[0m         \u001b[0massertion_func\u001b[0m \u001b[1;33m=\u001b[0m \u001b[0mself\u001b[0m\u001b[1;33m.\u001b[0m\u001b[0m_getAssertEqualityFunc\u001b[0m\u001b[1;33m(\u001b[0m\u001b[0mfirst\u001b[0m\u001b[1;33m,\u001b[0m \u001b[0msecond\u001b[0m\u001b[1;33m)\u001b[0m\u001b[1;33m\u001b[0m\u001b[1;33m\u001b[0m\u001b[0m\n\u001b[1;32m--> 912\u001b[1;33m         \u001b[0massertion_func\u001b[0m\u001b[1;33m(\u001b[0m\u001b[0mfirst\u001b[0m\u001b[1;33m,\u001b[0m \u001b[0msecond\u001b[0m\u001b[1;33m,\u001b[0m \u001b[0mmsg\u001b[0m\u001b[1;33m=\u001b[0m\u001b[0mmsg\u001b[0m\u001b[1;33m)\u001b[0m\u001b[1;33m\u001b[0m\u001b[1;33m\u001b[0m\u001b[0m\n\u001b[0m\u001b[0;32m    913\u001b[0m \u001b[1;33m\u001b[0m\u001b[0m\n\u001b[0;32m    914\u001b[0m     \u001b[1;32mdef\u001b[0m \u001b[0massertNotEqual\u001b[0m\u001b[1;33m(\u001b[0m\u001b[0mself\u001b[0m\u001b[1;33m,\u001b[0m \u001b[0mfirst\u001b[0m\u001b[1;33m,\u001b[0m \u001b[0msecond\u001b[0m\u001b[1;33m,\u001b[0m \u001b[0mmsg\u001b[0m\u001b[1;33m=\u001b[0m\u001b[1;32mNone\u001b[0m\u001b[1;33m)\u001b[0m\u001b[1;33m:\u001b[0m\u001b[1;33m\u001b[0m\u001b[1;33m\u001b[0m\u001b[0m\n",
      "\u001b[1;32m~\\AppData\\Local\\Programs\\Python\\Python38\\lib\\unittest\\case.py\u001b[0m in \u001b[0;36massertTupleEqual\u001b[1;34m(self, tuple1, tuple2, msg)\u001b[0m\n\u001b[0;32m   1127\u001b[0m                     \u001b[0mdifferences\u001b[0m\u001b[1;33m.\u001b[0m\u001b[1;33m\u001b[0m\u001b[1;33m\u001b[0m\u001b[0m\n\u001b[0;32m   1128\u001b[0m         \"\"\"\n\u001b[1;32m-> 1129\u001b[1;33m         \u001b[0mself\u001b[0m\u001b[1;33m.\u001b[0m\u001b[0massertSequenceEqual\u001b[0m\u001b[1;33m(\u001b[0m\u001b[0mtuple1\u001b[0m\u001b[1;33m,\u001b[0m \u001b[0mtuple2\u001b[0m\u001b[1;33m,\u001b[0m \u001b[0mmsg\u001b[0m\u001b[1;33m,\u001b[0m \u001b[0mseq_type\u001b[0m\u001b[1;33m=\u001b[0m\u001b[0mtuple\u001b[0m\u001b[1;33m)\u001b[0m\u001b[1;33m\u001b[0m\u001b[1;33m\u001b[0m\u001b[0m\n\u001b[0m\u001b[0;32m   1130\u001b[0m \u001b[1;33m\u001b[0m\u001b[0m\n\u001b[0;32m   1131\u001b[0m     \u001b[1;32mdef\u001b[0m \u001b[0massertSetEqual\u001b[0m\u001b[1;33m(\u001b[0m\u001b[0mself\u001b[0m\u001b[1;33m,\u001b[0m \u001b[0mset1\u001b[0m\u001b[1;33m,\u001b[0m \u001b[0mset2\u001b[0m\u001b[1;33m,\u001b[0m \u001b[0mmsg\u001b[0m\u001b[1;33m=\u001b[0m\u001b[1;32mNone\u001b[0m\u001b[1;33m)\u001b[0m\u001b[1;33m:\u001b[0m\u001b[1;33m\u001b[0m\u001b[1;33m\u001b[0m\u001b[0m\n",
      "\u001b[1;32m~\\AppData\\Local\\Programs\\Python\\Python38\\lib\\unittest\\case.py\u001b[0m in \u001b[0;36massertSequenceEqual\u001b[1;34m(self, seq1, seq2, msg, seq_type)\u001b[0m\n\u001b[0;32m   1098\u001b[0m         \u001b[0mstandardMsg\u001b[0m \u001b[1;33m=\u001b[0m \u001b[0mself\u001b[0m\u001b[1;33m.\u001b[0m\u001b[0m_truncateMessage\u001b[0m\u001b[1;33m(\u001b[0m\u001b[0mstandardMsg\u001b[0m\u001b[1;33m,\u001b[0m \u001b[0mdiffMsg\u001b[0m\u001b[1;33m)\u001b[0m\u001b[1;33m\u001b[0m\u001b[1;33m\u001b[0m\u001b[0m\n\u001b[0;32m   1099\u001b[0m         \u001b[0mmsg\u001b[0m \u001b[1;33m=\u001b[0m \u001b[0mself\u001b[0m\u001b[1;33m.\u001b[0m\u001b[0m_formatMessage\u001b[0m\u001b[1;33m(\u001b[0m\u001b[0mmsg\u001b[0m\u001b[1;33m,\u001b[0m \u001b[0mstandardMsg\u001b[0m\u001b[1;33m)\u001b[0m\u001b[1;33m\u001b[0m\u001b[1;33m\u001b[0m\u001b[0m\n\u001b[1;32m-> 1100\u001b[1;33m         \u001b[0mself\u001b[0m\u001b[1;33m.\u001b[0m\u001b[0mfail\u001b[0m\u001b[1;33m(\u001b[0m\u001b[0mmsg\u001b[0m\u001b[1;33m)\u001b[0m\u001b[1;33m\u001b[0m\u001b[1;33m\u001b[0m\u001b[0m\n\u001b[0m\u001b[0;32m   1101\u001b[0m \u001b[1;33m\u001b[0m\u001b[0m\n\u001b[0;32m   1102\u001b[0m     \u001b[1;32mdef\u001b[0m \u001b[0m_truncateMessage\u001b[0m\u001b[1;33m(\u001b[0m\u001b[0mself\u001b[0m\u001b[1;33m,\u001b[0m \u001b[0mmessage\u001b[0m\u001b[1;33m,\u001b[0m \u001b[0mdiff\u001b[0m\u001b[1;33m)\u001b[0m\u001b[1;33m:\u001b[0m\u001b[1;33m\u001b[0m\u001b[1;33m\u001b[0m\u001b[0m\n",
      "\u001b[1;32m~\\AppData\\Local\\Programs\\Python\\Python38\\lib\\unittest\\case.py\u001b[0m in \u001b[0;36mfail\u001b[1;34m(self, msg)\u001b[0m\n\u001b[0;32m    751\u001b[0m     \u001b[1;32mdef\u001b[0m \u001b[0mfail\u001b[0m\u001b[1;33m(\u001b[0m\u001b[0mself\u001b[0m\u001b[1;33m,\u001b[0m \u001b[0mmsg\u001b[0m\u001b[1;33m=\u001b[0m\u001b[1;32mNone\u001b[0m\u001b[1;33m)\u001b[0m\u001b[1;33m:\u001b[0m\u001b[1;33m\u001b[0m\u001b[1;33m\u001b[0m\u001b[0m\n\u001b[0;32m    752\u001b[0m         \u001b[1;34m\"\"\"Fail immediately, with the given message.\"\"\"\u001b[0m\u001b[1;33m\u001b[0m\u001b[1;33m\u001b[0m\u001b[0m\n\u001b[1;32m--> 753\u001b[1;33m         \u001b[1;32mraise\u001b[0m \u001b[0mself\u001b[0m\u001b[1;33m.\u001b[0m\u001b[0mfailureException\u001b[0m\u001b[1;33m(\u001b[0m\u001b[0mmsg\u001b[0m\u001b[1;33m)\u001b[0m\u001b[1;33m\u001b[0m\u001b[1;33m\u001b[0m\u001b[0m\n\u001b[0m\u001b[0;32m    754\u001b[0m \u001b[1;33m\u001b[0m\u001b[0m\n\u001b[0;32m    755\u001b[0m     \u001b[1;32mdef\u001b[0m \u001b[0massertFalse\u001b[0m\u001b[1;33m(\u001b[0m\u001b[0mself\u001b[0m\u001b[1;33m,\u001b[0m \u001b[0mexpr\u001b[0m\u001b[1;33m,\u001b[0m \u001b[0mmsg\u001b[0m\u001b[1;33m=\u001b[0m\u001b[1;32mNone\u001b[0m\u001b[1;33m)\u001b[0m\u001b[1;33m:\u001b[0m\u001b[1;33m\u001b[0m\u001b[1;33m\u001b[0m\u001b[0m\n",
      "\u001b[1;31mAssertionError\u001b[0m: Tuples differ: (1, 5) != (2, 4)\n\nFirst differing element 0:\n1\n2\n\n- (1, 5)\n+ (2, 4)"
     ]
    }
   ],
   "source": [
    "# (10 points)\n",
    "\n",
    "from unittest import TestCase\n",
    "tc = TestCase()\n",
    "tc.assertEqual(play_batch(['1', '1', '1', '1', '1', '1'], 3), (0, 6))\n",
    "tc.assertEqual(play_batch(['1', '2', '1', '2', '1', '2'], 3), (2, 4))\n",
    "tc.assertEqual(play_batch(['1', '2', '1', '2', '1', '2'], 4), (3, 3))\n",
    "tc.assertEqual(play_batch(['1', '2'] * 100, 5), (3, 197))\n",
    "tc.assertEqual(play_batch(['1', '1', '2', '1', '2', '1'] * 100, 2), (398, 202))\n",
    "tc.assertEqual(play_batch(['1', '1', '2', '1', '2', '1'] * 100, 3), (201, 399))\n",
    "tc.assertEqual(play_batch(['1', '1', '2', '1', '2', '1'] * 100, 5), (4, 596))\n",
    "import random\n",
    "random.seed(0, version=2)\n",
    "tc.assertEqual(play_batch((random.choice(['1', '2']) for _ in range(10000)), 4), (5047, 4953))"
   ]
  },
  {
   "cell_type": "code",
   "execution_count": null,
   "metadata": {},
   "outputs": [],
   "source": []
  }
 ],
 "metadata": {
  "kernelspec": {
   "display_name": "Python 3.8.1 64-bit",
   "language": "python",
   "name": "python38164bit65955fbddb904dfc9f57b0135a0fbbd7"
  },
  "language_info": {
   "codemirror_mode": {
    "name": "ipython",
    "version": 3
   },
   "file_extension": ".py",
   "mimetype": "text/x-python",
   "name": "python",
   "nbconvert_exporter": "python",
   "pygments_lexer": "ipython3",
   "version": "3.8.1-final"
  },
  "mimir": {
   "data": {},
   "last_submission_id": "",
   "project_id": "8f7715b9-ee27-4072-8e3b-1f9cb26d2ece"
  },
  "varInspector": {
   "cols": {
    "lenName": 16,
    "lenType": 16,
    "lenVar": 40
   },
   "kernels_config": {
    "python": {
     "delete_cmd_postfix": "",
     "delete_cmd_prefix": "del ",
     "library": "var_list.py",
     "varRefreshCmd": "print(var_dic_list())"
    },
    "r": {
     "delete_cmd_postfix": ") ",
     "delete_cmd_prefix": "rm(",
     "library": "var_list.r",
     "varRefreshCmd": "cat(var_dic_list()) "
    }
   },
   "types_to_exclude": [
    "module",
    "function",
    "builtin_function_or_method",
    "instance",
    "_Feature"
   ],
   "window_display": false
  }
 },
 "nbformat": 4,
 "nbformat_minor": 2
}